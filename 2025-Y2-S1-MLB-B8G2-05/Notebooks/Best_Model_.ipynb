{
  "nbformat": 4,
  "nbformat_minor": 0,
  "metadata": {
    "colab": {
      "provenance": []
    },
    "kernelspec": {
      "name": "python3",
      "display_name": "Python 3"
    },
    "language_info": {
      "name": "python"
    }
  },
  "cells": [
    {
      "cell_type": "code",
      "execution_count": 2,
      "metadata": {
        "colab": {
          "base_uri": "https://localhost:8080/"
        },
        "id": "iJjZv18ACL6I",
        "outputId": "3c4befe7-a0b3-4c1e-f774-bc6e5ffc88c0"
      },
      "outputs": [
        {
          "output_type": "stream",
          "name": "stdout",
          "text": [
            "Model Metrics with Composite Scores:\n",
            "                 Model  Accuracy  F1 Score  Precision  Recall  AUC-ROC  \\\n",
            "0  Logistic Regression    0.8445    0.5807     0.7094  0.4916   0.8649   \n",
            "1        Decision Tree    0.8385    0.5612     0.6936  0.4712   0.8377   \n",
            "2                  SVM    0.7928    0.6067     0.5225  0.7232   0.8604   \n",
            "3        Random Forest    0.7924    0.6067     0.5182  0.7490   0.8616   \n",
            "4              XGBoost    0.8206    0.6459     0.5691  0.7465   0.8834   \n",
            "5                  KNN    0.8268    0.5200     0.6500  0.4333   0.8066   \n",
            "\n",
            "   Composite Score  \n",
            "0         0.683377  \n",
            "1         0.550998  \n",
            "2         0.432285  \n",
            "3         0.443775  \n",
            "4         0.736976  \n",
            "5         0.302933  \n",
            "\n",
            "Best Model:\n",
            "Model               XGBoost\n",
            "Accuracy             0.8206\n",
            "F1 Score             0.6459\n",
            "Precision            0.5691\n",
            "Recall               0.7465\n",
            "AUC-ROC              0.8834\n",
            "Composite Score    0.736976\n",
            "Name: 4, dtype: object\n"
          ]
        }
      ],
      "source": [
        "import pandas as pd\n",
        "from sklearn.preprocessing import MinMaxScaler\n",
        "\n",
        "# Define the model metrics\n",
        "data = {\n",
        "    'Model': ['Logistic Regression', 'Decision Tree', 'SVM', 'Random Forest', 'XGBoost', 'KNN'],\n",
        "    'Accuracy': [0.8445, 0.8385, 0.7928, 0.7924, 0.8206, 0.8268],\n",
        "    'F1 Score': [0.5807, 0.5612, 0.6067, 0.6067, 0.6459, 0.5200],\n",
        "    'Precision': [0.7094, 0.6936, 0.5225, 0.5182, 0.5691, 0.6500],\n",
        "    'Recall': [0.4916, 0.4712, 0.7232, 0.7490, 0.7465, 0.4333],\n",
        "    'AUC-ROC': [0.8649, 0.8377, 0.8604, 0.8616, 0.8834, 0.8066]\n",
        "}\n",
        "\n",
        "# Create DataFrame\n",
        "df = pd.DataFrame(data)\n",
        "\n",
        "# Define weights for each metric (adjust based on priorities)\n",
        "weights = {\n",
        "    'Accuracy': 0.25,\n",
        "    'F1 Score': 0.25,\n",
        "    'Precision': 0.2,\n",
        "    'Recall': 0.2,\n",
        "    'AUC-ROC': 0.1\n",
        "}\n",
        "\n",
        "# Normalize the metrics (scale between 0 and 1)\n",
        "scaler = MinMaxScaler()\n",
        "metrics = ['Accuracy', 'F1 Score', 'Precision', 'Recall', 'AUC-ROC']\n",
        "normalized_metrics = scaler.fit_transform(df[metrics])\n",
        "normalized_df = pd.DataFrame(normalized_metrics, columns=metrics, index=df.index)\n",
        "\n",
        "# Calculate composite score\n",
        "df['Composite Score'] = sum(normalized_df[metric] * weight for metric, weight in weights.items())\n",
        "\n",
        "# Select the best model\n",
        "best_model = df.loc[df['Composite Score'].idxmax()]\n",
        "\n",
        "# Output results\n",
        "print(\"Model Metrics with Composite Scores:\")\n",
        "print(df)\n",
        "print(\"\\nBest Model:\")\n",
        "print(best_model)"
      ]
    }
  ]
}